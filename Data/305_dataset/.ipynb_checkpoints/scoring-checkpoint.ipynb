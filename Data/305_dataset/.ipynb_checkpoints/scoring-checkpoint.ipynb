{
 "cells": [
  {
   "cell_type": "code",
   "execution_count": 1,
   "metadata": {},
   "outputs": [],
   "source": [
    "import pandas as pd\n",
    "import numpy as np\n",
    "import csv"
   ]
  },
  {
   "cell_type": "markdown",
   "metadata": {},
   "source": [
    "## Read CSV"
   ]
  },
  {
   "cell_type": "code",
   "execution_count": 2,
   "metadata": {},
   "outputs": [
    {
     "data": {
      "text/html": [
       "<div>\n",
       "<style scoped>\n",
       "    .dataframe tbody tr th:only-of-type {\n",
       "        vertical-align: middle;\n",
       "    }\n",
       "\n",
       "    .dataframe tbody tr th {\n",
       "        vertical-align: top;\n",
       "    }\n",
       "\n",
       "    .dataframe thead th {\n",
       "        text-align: right;\n",
       "    }\n",
       "</style>\n",
       "<table border=\"1\" class=\"dataframe\">\n",
       "  <thead>\n",
       "    <tr style=\"text-align: right;\">\n",
       "      <th></th>\n",
       "      <th>Thread_id</th>\n",
       "      <th>Thread_index</th>\n",
       "      <th>Index</th>\n",
       "      <th>Word</th>\n",
       "      <th>Label</th>\n",
       "    </tr>\n",
       "  </thead>\n",
       "  <tbody>\n",
       "    <tr>\n",
       "      <td>0</td>\n",
       "      <td>37357879</td>\n",
       "      <td>1</td>\n",
       "      <td>99</td>\n",
       "      <td>ทับสะแก จังหวัดประจวบคีรีขันธ์</td>\n",
       "      <td>LOCATION</td>\n",
       "    </tr>\n",
       "    <tr>\n",
       "      <td>1</td>\n",
       "      <td>37357879</td>\n",
       "      <td>1</td>\n",
       "      <td>129</td>\n",
       "      <td>ฟิวเจอร์พาร์ครังสิต</td>\n",
       "      <td>LOCATION</td>\n",
       "    </tr>\n",
       "    <tr>\n",
       "      <td>2</td>\n",
       "      <td>37357879</td>\n",
       "      <td>1</td>\n",
       "      <td>138</td>\n",
       "      <td>ชะอำ</td>\n",
       "      <td>LOCATION</td>\n",
       "    </tr>\n",
       "    <tr>\n",
       "      <td>3</td>\n",
       "      <td>37357879</td>\n",
       "      <td>1</td>\n",
       "      <td>142</td>\n",
       "      <td>อ่าวมะนาว</td>\n",
       "      <td>LOCATION</td>\n",
       "    </tr>\n",
       "    <tr>\n",
       "      <td>4</td>\n",
       "      <td>37357879</td>\n",
       "      <td>1</td>\n",
       "      <td>993</td>\n",
       "      <td>เมืองไทย</td>\n",
       "      <td>LOCATION</td>\n",
       "    </tr>\n",
       "    <tr>\n",
       "      <td>...</td>\n",
       "      <td>...</td>\n",
       "      <td>...</td>\n",
       "      <td>...</td>\n",
       "      <td>...</td>\n",
       "      <td>...</td>\n",
       "    </tr>\n",
       "    <tr>\n",
       "      <td>7219</td>\n",
       "      <td>38190914</td>\n",
       "      <td>305</td>\n",
       "      <td>380</td>\n",
       "      <td>ศรีราชา</td>\n",
       "      <td>LOCATION</td>\n",
       "    </tr>\n",
       "    <tr>\n",
       "      <td>7220</td>\n",
       "      <td>38190914</td>\n",
       "      <td>305</td>\n",
       "      <td>415</td>\n",
       "      <td>ศรีราชา</td>\n",
       "      <td>LOCATION</td>\n",
       "    </tr>\n",
       "    <tr>\n",
       "      <td>7221</td>\n",
       "      <td>38190914</td>\n",
       "      <td>305</td>\n",
       "      <td>431</td>\n",
       "      <td>เขื่อนบางพระ</td>\n",
       "      <td>LOCATION</td>\n",
       "    </tr>\n",
       "    <tr>\n",
       "      <td>7222</td>\n",
       "      <td>38190914</td>\n",
       "      <td>305</td>\n",
       "      <td>439</td>\n",
       "      <td>จังหวัดชลบุรี</td>\n",
       "      <td>LOCATION</td>\n",
       "    </tr>\n",
       "    <tr>\n",
       "      <td>7223</td>\n",
       "      <td>38190914</td>\n",
       "      <td>305</td>\n",
       "      <td>511</td>\n",
       "      <td>อำเภอศรีราชา</td>\n",
       "      <td>LOCATION</td>\n",
       "    </tr>\n",
       "  </tbody>\n",
       "</table>\n",
       "<p>7224 rows × 5 columns</p>\n",
       "</div>"
      ],
      "text/plain": [
       "      Thread_id  Thread_index  Index                            Word     Label\n",
       "0      37357879             1     99  ทับสะแก จังหวัดประจวบคีรีขันธ์  LOCATION\n",
       "1      37357879             1    129             ฟิวเจอร์พาร์ครังสิต  LOCATION\n",
       "2      37357879             1    138                            ชะอำ  LOCATION\n",
       "3      37357879             1    142                       อ่าวมะนาว  LOCATION\n",
       "4      37357879             1    993                        เมืองไทย  LOCATION\n",
       "...         ...           ...    ...                             ...       ...\n",
       "7219   38190914           305    380                         ศรีราชา  LOCATION\n",
       "7220   38190914           305    415                         ศรีราชา  LOCATION\n",
       "7221   38190914           305    431                    เขื่อนบางพระ  LOCATION\n",
       "7222   38190914           305    439                   จังหวัดชลบุรี  LOCATION\n",
       "7223   38190914           305    511                    อำเภอศรีราชา  LOCATION\n",
       "\n",
       "[7224 rows x 5 columns]"
      ]
     },
     "execution_count": 2,
     "metadata": {},
     "output_type": "execute_result"
    }
   ],
   "source": [
    "pred_df = pd.read_csv('305_loc_predict.csv')\n",
    "pred_df"
   ]
  },
  {
   "cell_type": "markdown",
   "metadata": {},
   "source": [
    "## Create Predicted location dictionary with thread_id as key"
   ]
  },
  {
   "cell_type": "code",
   "execution_count": null,
   "metadata": {},
   "outputs": [],
   "source": [
    "pred_dict = {}\n",
    "pred_count = 0\n",
    "for i in range(len(pred_df)):\n",
    "    if pred_df.iloc[i][0] in pred_dict:\n",
    "        if(pred_df.iloc[i][2] not in pred_dict[pred_df.iloc[i][0]]):\n",
    "            pred_dict[pred_df.iloc[i][0]].append(pred_df.iloc[i][2])\n",
    "            pred_count += 1\n",
    "    else:\n",
    "        pred_dict[pred_df.iloc[i][0]] = [pred_df.iloc[i][2]]\n",
    "        pred_count += 1\n",
    "pred_dict"
   ]
  },
  {
   "cell_type": "markdown",
   "metadata": {},
   "source": [
    "# Count predicted_loc occurence in actual_loc"
   ]
  },
  {
   "cell_type": "code",
   "execution_count": null,
   "metadata": {},
   "outputs": [],
   "source": [
    "len(pred_dict)"
   ]
  },
  {
   "cell_type": "code",
   "execution_count": null,
   "metadata": {},
   "outputs": [],
   "source": [
    "thread_score_list = []\n",
    "total_score = 0\n",
    "for key in pred_dict:\n",
    "    thread_score = 0\n",
    "    if(key in act_dict):\n",
    "        for loc in pred_dict[key]:\n",
    "            if(loc in act_dict[key]):\n",
    "                thread_score += 1\n",
    "                total_score += 1\n",
    "        thread_score = thread_score / len(act_dict[key])\n",
    "    thread_score_list.append((key, round(thread_score, 4)))"
   ]
  },
  {
   "cell_type": "code",
   "execution_count": null,
   "metadata": {},
   "outputs": [],
   "source": [
    "thread_score_list"
   ]
  },
  {
   "cell_type": "code",
   "execution_count": null,
   "metadata": {},
   "outputs": [],
   "source": [
    "total_score"
   ]
  },
  {
   "cell_type": "markdown",
   "metadata": {},
   "source": [
    "# Merge Tags Scoring"
   ]
  },
  {
   "cell_type": "code",
   "execution_count": null,
   "metadata": {},
   "outputs": [],
   "source": [
    "print(total_score)\n",
    "print(pred_count)\n",
    "print(act_count)"
   ]
  },
  {
   "cell_type": "code",
   "execution_count": null,
   "metadata": {},
   "outputs": [],
   "source": [
    "precision = total_score / pred_count\n",
    "round(precision, 4)"
   ]
  },
  {
   "cell_type": "code",
   "execution_count": null,
   "metadata": {},
   "outputs": [],
   "source": [
    "recall = total_score / act_count\n",
    "round(recall, 4)"
   ]
  },
  {
   "cell_type": "code",
   "execution_count": null,
   "metadata": {},
   "outputs": [],
   "source": []
  }
 ],
 "metadata": {
  "kernelspec": {
   "display_name": "Python 3",
   "language": "python",
   "name": "python3"
  },
  "language_info": {
   "codemirror_mode": {
    "name": "ipython",
    "version": 3
   },
   "file_extension": ".py",
   "mimetype": "text/x-python",
   "name": "python",
   "nbconvert_exporter": "python",
   "pygments_lexer": "ipython3",
   "version": "3.7.4"
  }
 },
 "nbformat": 4,
 "nbformat_minor": 2
}
