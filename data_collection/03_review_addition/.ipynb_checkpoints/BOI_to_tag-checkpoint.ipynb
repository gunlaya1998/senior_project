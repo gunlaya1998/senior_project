{
 "cells": [
  {
   "cell_type": "code",
   "execution_count": 19,
   "metadata": {},
   "outputs": [],
   "source": [
    "from nltk import pos_tag\n",
    "from nltk.tree import Tree\n",
    "from nltk.chunk import conlltags2tree\n",
    "import re"
   ]
  },
  {
   "cell_type": "code",
   "execution_count": 2,
   "metadata": {},
   "outputs": [],
   "source": [
    "tokens = ['In', 'Beirut', ',', 'a', 'string', 'of', 'officials',\n",
    "          'voiced', 'their', 'anger', ',', 'while', 'at',\n",
    "          'the', 'United', 'Nations', 'summit', 'in', 'New', \n",
    "          'York', ',', 'Prime', 'Minister', 'Fouad', 'Siniora',\n",
    "          'said', 'the', 'Lebanese', 'people', 'are', 'resolute',\n",
    "          'in', 'preventing', 'such', 'attempts', 'from',\n",
    "          'destroying', 'their', 'spirit', '.']\n",
    "tags = ['O', 'B-geo', 'O', 'O', 'O', 'O', 'O', 'O', 'O', 'O', \n",
    "        'O', 'O', 'O', 'O', 'B-org', 'I-org', 'O', 'O', 'B-geo', \n",
    "        'I-geo', 'O', 'B-per', 'O', 'B-per', 'I-per', 'O', 'O', \n",
    "        'B-gpe', 'O', 'O', 'O', 'O', 'O', 'O', 'O', 'O', 'O', \n",
    "        'O', 'O', 'O']"
   ]
  },
  {
   "cell_type": "code",
   "execution_count": 3,
   "metadata": {},
   "outputs": [],
   "source": [
    "pos_tags = [pos for token, pos in pos_tag(tokens)]"
   ]
  },
  {
   "cell_type": "code",
   "execution_count": 4,
   "metadata": {},
   "outputs": [],
   "source": [
    "conlltags = [(token, pos, tg) for token, pos, tg in zip(tokens, pos_tags, tags)]\n",
    "ne_tree = conlltags2tree(conlltags)"
   ]
  },
  {
   "cell_type": "code",
   "execution_count": 5,
   "metadata": {},
   "outputs": [
    {
     "name": "stdout",
     "output_type": "stream",
     "text": [
      "[('Beirut', 'geo'), ('United Nations', 'org'), ('New York', 'geo'), ('Prime', 'per'), ('Fouad Siniora', 'per'), ('Lebanese', 'gpe')]\n"
     ]
    }
   ],
   "source": [
    "original_text = []\n",
    "for subtree in ne_tree:\n",
    "    # skipping 'O' tags\n",
    "    if type(subtree) == Tree:\n",
    "        original_label = subtree.label()\n",
    "        original_string = \" \".join([token for token, pos in subtree.leaves()])\n",
    "        original_text.append((original_string, original_label))\n",
    "print(original_text)"
   ]
  },
  {
   "cell_type": "code",
   "execution_count": 13,
   "metadata": {},
   "outputs": [],
   "source": [
    "text = \"ทับสะแก\tNCMN\tB-LOCATION\"\n",
    "#  \tPUNC\tI-LOCATION\n",
    "# จังหวัด\tNCMN\tI-LOCATION\n",
    "# ประจวบคีรีขันธ์\tNCMN\tI-LOCATION\n",
    "# \""
   ]
  },
  {
   "cell_type": "code",
   "execution_count": 18,
   "metadata": {},
   "outputs": [
    {
     "ename": "ValueError",
     "evalue": "not enough values to unpack (expected 3, got 1)",
     "output_type": "error",
     "traceback": [
      "\u001b[0;31m---------------------------------------------------------------------------\u001b[0m",
      "\u001b[0;31mValueError\u001b[0m                                Traceback (most recent call last)",
      "\u001b[0;32m<ipython-input-18-58a2843fca4c>\u001b[0m in \u001b[0;36m<module>\u001b[0;34m\u001b[0m\n\u001b[0;32m----> 1\u001b[0;31m \u001b[0mne_tree\u001b[0m \u001b[0;34m=\u001b[0m \u001b[0mconlltags2tree\u001b[0m\u001b[0;34m(\u001b[0m\u001b[0mtext\u001b[0m\u001b[0;34m)\u001b[0m\u001b[0;34m\u001b[0m\u001b[0;34m\u001b[0m\u001b[0m\n\u001b[0m",
      "\u001b[0;32m~/.local/lib/python3.7/site-packages/nltk/chunk/util.py\u001b[0m in \u001b[0;36mconlltags2tree\u001b[0;34m(sentence, chunk_types, root_label, strict)\u001b[0m\n\u001b[1;32m    459\u001b[0m     \"\"\"\n\u001b[1;32m    460\u001b[0m     \u001b[0mtree\u001b[0m \u001b[0;34m=\u001b[0m \u001b[0mTree\u001b[0m\u001b[0;34m(\u001b[0m\u001b[0mroot_label\u001b[0m\u001b[0;34m,\u001b[0m \u001b[0;34m[\u001b[0m\u001b[0;34m]\u001b[0m\u001b[0;34m)\u001b[0m\u001b[0;34m\u001b[0m\u001b[0;34m\u001b[0m\u001b[0m\n\u001b[0;32m--> 461\u001b[0;31m     \u001b[0;32mfor\u001b[0m \u001b[0;34m(\u001b[0m\u001b[0mword\u001b[0m\u001b[0;34m,\u001b[0m \u001b[0mpostag\u001b[0m\u001b[0;34m,\u001b[0m \u001b[0mchunktag\u001b[0m\u001b[0;34m)\u001b[0m \u001b[0;32min\u001b[0m \u001b[0msentence\u001b[0m\u001b[0;34m:\u001b[0m\u001b[0;34m\u001b[0m\u001b[0;34m\u001b[0m\u001b[0m\n\u001b[0m\u001b[1;32m    462\u001b[0m         \u001b[0;32mif\u001b[0m \u001b[0mchunktag\u001b[0m \u001b[0;32mis\u001b[0m \u001b[0;32mNone\u001b[0m\u001b[0;34m:\u001b[0m\u001b[0;34m\u001b[0m\u001b[0;34m\u001b[0m\u001b[0m\n\u001b[1;32m    463\u001b[0m             \u001b[0;32mif\u001b[0m \u001b[0mstrict\u001b[0m\u001b[0;34m:\u001b[0m\u001b[0;34m\u001b[0m\u001b[0;34m\u001b[0m\u001b[0m\n",
      "\u001b[0;31mValueError\u001b[0m: not enough values to unpack (expected 3, got 1)"
     ]
    }
   ],
   "source": [
    "conll_to_list = re.sub(r\"\\t\", \", \", text, flags=re.I)"
   ]
  },
  {
   "cell_type": "code",
   "execution_count": null,
   "metadata": {},
   "outputs": [],
   "source": []
  }
 ],
 "metadata": {
  "kernelspec": {
   "display_name": "Python 3",
   "language": "python",
   "name": "python3"
  },
  "language_info": {
   "codemirror_mode": {
    "name": "ipython",
    "version": 3
   },
   "file_extension": ".py",
   "mimetype": "text/x-python",
   "name": "python",
   "nbconvert_exporter": "python",
   "pygments_lexer": "ipython3",
   "version": "3.7.4"
  }
 },
 "nbformat": 4,
 "nbformat_minor": 2
}
