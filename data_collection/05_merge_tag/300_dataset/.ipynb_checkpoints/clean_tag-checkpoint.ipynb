{
 "cells": [
  {
   "cell_type": "code",
   "execution_count": 1,
   "metadata": {},
   "outputs": [],
   "source": [
    "import json\n",
    "import string\n",
    "import re"
   ]
  },
  {
   "cell_type": "code",
   "execution_count": 2,
   "metadata": {},
   "outputs": [],
   "source": [
    "text = open(\"./300_dataset/300_clean_dataset.txt\", \"r\").read()"
   ]
  },
  {
   "cell_type": "code",
   "execution_count": 3,
   "metadata": {},
   "outputs": [
    {
     "data": {
      "text/plain": [
       "1515567"
      ]
     },
     "execution_count": 3,
     "metadata": {},
     "output_type": "execute_result"
    }
   ],
   "source": [
    "text = re.sub(r\"\\[LOCATION\\]\", \"\", text, flags=re.I)\n",
    "text = re.sub(r\"\\[\\/LOCATION\\]\", \"\", text, flags=re.I)\n",
    "\n",
    "text = re.sub(r\"\\[HOTEL\\]\", \"\", text, flags=re.I)\n",
    "text = re.sub(r\"\\[\\/HOTEL\\]\", \"\", text, flags=re.I)\n",
    "\n",
    "text = re.sub(r\"\\[RESTAURANT\\]\", \"\", text, flags=re.I)\n",
    "text = re.sub(r\"\\[\\/RESTAURANT\\]\", \"\", text, flags=re.I)\n",
    "\n",
    "# text = re.sub(r\"\\\\n\", \"\", text, flags=re.I)\n",
    "# text = re.sub(r\"[·“”\\\"\\\\,@\\'?\\$%_*+=!`~]\", \"\", text, flags=re.I)\n",
    "# text = re.sub(r\"&nbsp;\", \"\", text, flags=re.I)\n",
    "# text = re.sub(r\"<h1>.*\\n\", \"\", text, flags=re.I)\n",
    "# text = re.sub(r\"---*---\", \"\", text, flags=re.I)\n",
    "# text = re.sub(r\"\\.\\.\\.*\", \"\", text, flags=re.I)\n",
    "# clean_url = re.sub(r'^https?:\\/\\/.*[\\r\\n]*', '', text, flags=re.I)\n",
    "\n",
    "# from bs4 import BeautifulSoup\n",
    "# text = BeautifulSoup(text, \"lxml\").text\n",
    "\n",
    "# lines = text.split(\"\\n\")\n",
    "# text = [line for line in lines if line.strip() != \"\"]\n",
    "\n",
    "# string_without_empty_lines = \"\"\n",
    "# for line in text:\n",
    "#       string_without_empty_lines += line + \"\\n\"\n",
    "\n",
    "f = open(\"300_no_tag.txt\", \"w\")\n",
    "f.write(str(text))\n",
    "# f.write(str(string_without_empty_lines))"
   ]
  },
  {
   "cell_type": "code",
   "execution_count": null,
   "metadata": {},
   "outputs": [],
   "source": []
  }
 ],
 "metadata": {
  "kernelspec": {
   "display_name": "Python 3",
   "language": "python",
   "name": "python3"
  },
  "language_info": {
   "codemirror_mode": {
    "name": "ipython",
    "version": 3
   },
   "file_extension": ".py",
   "mimetype": "text/x-python",
   "name": "python",
   "nbconvert_exporter": "python",
   "pygments_lexer": "ipython3",
   "version": "3.7.4"
  }
 },
 "nbformat": 4,
 "nbformat_minor": 2
}
