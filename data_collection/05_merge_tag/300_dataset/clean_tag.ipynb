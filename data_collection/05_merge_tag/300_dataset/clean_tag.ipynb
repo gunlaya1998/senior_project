{
 "cells": [
  {
   "cell_type": "code",
   "execution_count": 2,
   "metadata": {},
   "outputs": [],
   "source": [
    "import json\n",
    "import string\n",
    "import re"
   ]
  },
  {
   "cell_type": "code",
   "execution_count": 3,
   "metadata": {},
   "outputs": [],
   "source": [
    "text = open(\"unseen_withTag.txt\", \"r\").read()"
   ]
  },
  {
   "cell_type": "code",
   "execution_count": 4,
   "metadata": {},
   "outputs": [
    {
     "data": {
      "text/plain": [
       "48282"
      ]
     },
     "execution_count": 4,
     "metadata": {},
     "output_type": "execute_result"
    }
   ],
   "source": [
    "# text = re.sub(r\"\\[LOCATION\\]\", \"\", text, flags=re.I)\n",
    "# text = re.sub(r\"\\[\\/LOCATION\\]\", \"\", text, flags=re.I)\n",
    "\n",
    "# text = re.sub(r\"\\[HOTEL\\]\", \"\", text, flags=re.I)\n",
    "# text = re.sub(r\"\\[\\/HOTEL\\]\", \"\", text, flags=re.I)\n",
    "\n",
    "# text = re.sub(r\"\\[RESTAURANT\\]\", \"\", text, flags=re.I)\n",
    "# text = re.sub(r\"\\[\\/RESTAURANT\\]\", \"\", text, flags=re.I)\n",
    "\n",
    "clean_nl_text = re.sub(r\"\\\\n\", \"\", text, flags=re.I)\n",
    "clean_punc = re.sub(r\"[⏰•·“”\\\"\\\\,@\\'?\\$%_*+=!`~]\", \"\", clean_nl_text, flags=re.I)\n",
    "clean_symbol = re.sub(r\"&nbsp;\", \"\", clean_punc, flags=re.I)\n",
    "clean_line = re.sub(r\"<h1>.*\\n\", \"\", clean_symbol, flags=re.I)\n",
    "clean_finishline = re.sub(r\"---*---\", \"\", clean_line, flags=re.I)\n",
    "clean_dot = re.sub(r\"\\.\\.\\.*\", \"\", clean_finishline, flags=re.I)\n",
    "# clean_url = re.sub(r'^https?:\\/\\/.*[\\r\\n]*', '', clean_dot, flags=re.I)\n",
    "\n",
    "from bs4 import BeautifulSoup\n",
    "clean_html = BeautifulSoup(clean_dot, \"lxml\").text\n",
    "\n",
    "lines = clean_html.split(\"\\n\")\n",
    "non_empty_lines = [line for line in lines if line.strip() != \"\"]\n",
    "\n",
    "string_without_empty_lines = \"\"\n",
    "for line in non_empty_lines:\n",
    "      string_without_empty_lines += line + \"\\n\"\n",
    "\n",
    "# clean_hotel_open = re.sub(r\"\\[HOTEL\\]\", \"\", string_without_empty_lines, flags=re.I)\n",
    "# clean_hotel_close = re.sub(r\"\\[/HOTEL\\]\", \"\", clean_hotel_open, flags=re.I)\n",
    "\n",
    "clean_text = string_without_empty_lines\n",
    "f = open(\"unseen_noTag02.txt\", \"w\")\n",
    "f.write(str(clean_text))"
   ]
  },
  {
   "cell_type": "code",
   "execution_count": null,
   "metadata": {},
   "outputs": [],
   "source": []
  },
  {
   "cell_type": "code",
   "execution_count": null,
   "metadata": {},
   "outputs": [],
   "source": []
  }
 ],
 "metadata": {
  "kernelspec": {
   "display_name": "Python 3",
   "language": "python",
   "name": "python3"
  },
  "language_info": {
   "codemirror_mode": {
    "name": "ipython",
    "version": 3
   },
   "file_extension": ".py",
   "mimetype": "text/x-python",
   "name": "python",
   "nbconvert_exporter": "python",
   "pygments_lexer": "ipython3",
   "version": "3.7.4"
  }
 },
 "nbformat": 4,
 "nbformat_minor": 2
}
