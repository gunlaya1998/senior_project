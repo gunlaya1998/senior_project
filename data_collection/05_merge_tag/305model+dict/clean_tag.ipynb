{
 "cells": [
  {
   "cell_type": "code",
   "execution_count": 1,
   "metadata": {},
   "outputs": [],
   "source": [
    "import json\n",
    "import string\n",
    "import re"
   ]
  },
  {
   "cell_type": "code",
   "execution_count": 3,
   "metadata": {},
   "outputs": [],
   "source": [
    "data_path = '/Users/j.kanlaya/Downloads/Mike/data_collection/05_merge_tag/305model+dict/data/'"
   ]
  },
  {
   "cell_type": "code",
   "execution_count": 4,
   "metadata": {},
   "outputs": [],
   "source": [
    "text = open(data_path+\"300_clean_dataset.txt\", \"r\").read()"
   ]
  },
  {
   "cell_type": "code",
   "execution_count": 5,
   "metadata": {},
   "outputs": [
    {
     "data": {
      "text/plain": [
       "1378233"
      ]
     },
     "execution_count": 5,
     "metadata": {},
     "output_type": "execute_result"
    }
   ],
   "source": [
    "# text = re.sub(r\"\\[LOCATION\\]\", \"\", text, flags=re.I)\n",
    "# text = re.sub(r\"\\[\\/LOCATION\\]\", \"\", text, flags=re.I)\n",
    "\n",
    "# text = re.sub(r\"\\[HOTEL\\]\", \"\", text, flags=re.I)\n",
    "# text = re.sub(r\"\\[\\/HOTEL\\]\", \"\", text, flags=re.I)\n",
    "\n",
    "# text = re.sub(r\"\\[RESTAURANT\\]\", \"\", text, flags=re.I)\n",
    "# text = re.sub(r\"\\[\\/RESTAURANT\\]\", \"\", text, flags=re.I)\n",
    "\n",
    "clean_nl_text = re.sub(r\"\\\\n\", \"\", text, flags=re.I)\n",
    "clean_punc = re.sub(r\"[⏰•·“”\\\"\\\\,@\\'?\\$%_*+=!`~]\", \"\", clean_nl_text, flags=re.I)\n",
    "clean_symbol = re.sub(r\"&nbsp;\", \"\", clean_punc, flags=re.I)\n",
    "clean_line = re.sub(r\"<h1>.*\\n\", \"\", clean_symbol, flags=re.I)\n",
    "clean_finishline = re.sub(r\"---*---\", \"\", clean_line, flags=re.I)\n",
    "clean_dot = re.sub(r\"\\.\\.\\.*\", \"\", clean_finishline, flags=re.I)\n",
    "# clean_url = re.sub(r'^https?:\\/\\/.*[\\r\\n]*', '', clean_dot, flags=re.I)\n",
    "\n",
    "from bs4 import BeautifulSoup\n",
    "clean_html = BeautifulSoup(clean_dot, \"lxml\").text\n",
    "\n",
    "lines = clean_html.split(\"\\n\")\n",
    "non_empty_lines = [line for line in lines if line.strip() != \"\"]\n",
    "\n",
    "string_without_empty_lines = \"\"\n",
    "for line in non_empty_lines:\n",
    "      string_without_empty_lines += line + \"\\n\"\n",
    "\n",
    "# clean_hotel_open = re.sub(r\"\\[HOTEL\\]\", \"\", string_without_empty_lines, flags=re.I)\n",
    "# clean_hotel_close = re.sub(r\"\\[/HOTEL\\]\", \"\", clean_hotel_open, flags=re.I)\n",
    "\n",
    "clean_text = string_without_empty_lines\n",
    "f = open(data_path+\"noTag.txt\", \"w\")\n",
    "f.write(str(clean_text))"
   ]
  },
  {
   "cell_type": "code",
   "execution_count": 7,
   "metadata": {},
   "outputs": [
    {
     "data": {
      "text/plain": [
       "1529298"
      ]
     },
     "execution_count": 7,
     "metadata": {},
     "output_type": "execute_result"
    }
   ],
   "source": [
    "text = re.sub(r\"\\[LOCATION\\]\", \"\", text, flags=re.I)\n",
    "text = re.sub(r\"\\[\\/LOCATION\\]\", \"\", text, flags=re.I)\n",
    "\n",
    "text = re.sub(r\"\\[HOTEL\\]\", \"\", text, flags=re.I)\n",
    "text = re.sub(r\"\\[\\/HOTEL\\]\", \"\", text, flags=re.I)\n",
    "\n",
    "text = re.sub(r\"\\[RESTAURANT\\]\", \"\", text, flags=re.I)\n",
    "text = re.sub(r\"\\[\\/RESTAURANT\\]\", \"\", text, flags=re.I)\n",
    "\n",
    "# text = re.sub(r\"\\\\n\", \"\", text, flags=re.I)\n",
    "# text = re.sub(r\"[⏰•·“”\\\"\\\\,@\\'?\\$%_*+=!`~]\", \"\", text, flags=re.I)\n",
    "# text = re.sub(r\"&nbsp;\", \"\", text, flags=re.I)\n",
    "# text = re.sub(r\"<h1>.*<h1>\\n\", \"\", text, flags=re.I)\n",
    "# text = re.sub(r\"<h1>.*</h1>\\n\", \"\", text, flags=re.I)\n",
    "# text = re.sub(r\"---*---\", \"\", text, flags=re.I)\n",
    "# text = re.sub(r\"\\.\\.\\.*\", \"\", text, flags=re.I)\n",
    "# # text = re.sub(r'^https?:\\/\\/.*[\\r\\n]*', '', text, flags=re.I)\n",
    "\n",
    "# from bs4 import BeautifulSoup\n",
    "# text = BeautifulSoup(text, \"lxml\").text\n",
    "\n",
    "# lines = text.split(\"\\n\")\n",
    "# non_empty_lines = [line for line in lines if line.strip() != \"\"]\n",
    "\n",
    "# string_without_empty_lines = \"\"\n",
    "# for line in non_empty_lines:\n",
    "#       string_without_empty_lines += line + \"\\n\"\n",
    "\n",
    "clean_text = text\n",
    "f = open(data_path+\"305_noTag.txt\", \"w\")\n",
    "f.write(str(clean_text))"
   ]
  },
  {
   "cell_type": "code",
   "execution_count": null,
   "metadata": {},
   "outputs": [],
   "source": []
  },
  {
   "cell_type": "code",
   "execution_count": null,
   "metadata": {},
   "outputs": [],
   "source": []
  }
 ],
 "metadata": {
  "kernelspec": {
   "display_name": "Python 3",
   "language": "python",
   "name": "python3"
  },
  "language_info": {
   "codemirror_mode": {
    "name": "ipython",
    "version": 3
   },
   "file_extension": ".py",
   "mimetype": "text/x-python",
   "name": "python",
   "nbconvert_exporter": "python",
   "pygments_lexer": "ipython3",
   "version": "3.7.4"
  }
 },
 "nbformat": 4,
 "nbformat_minor": 2
}
